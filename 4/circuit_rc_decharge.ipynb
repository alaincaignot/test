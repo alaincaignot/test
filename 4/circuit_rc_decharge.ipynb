{
 "cells": [
  {
   "cell_type": "markdown",
   "metadata": {},
   "source": [
    "# Etude du régime libre d'un circuit RC.\n",
    "On se propose d'étudier le régime libre d'un circuit RC. Le but de cette expérience est de valider le modèle d'ordre 1 du circuit puis de déterminer la capacité C du condensateur, connaissant la résistance R.\n",
    "\n",
    "Le circuit réalisé est donné ci-dessous (*La LED est là uniquement pour indiquer que la carte Arduino réalise une mesure*).\n",
    "\n",
    "![Montage d'étude d'un circuit RC](Circuit_RC.png)\n",
    "\n",
    "La valeur de la résistance est $R = 100 k \\Omega$\n",
    "\n",
    "L'entrée A0 servira à mesurer le potentiel électrique (*par rapport à une référence GND*) sur une des bornes du condensateur (*l'autre borne étant à 0V - **GND** on obtient ainsi la tension $U_C$*).\n",
    "\n",
    "La sortie 2 simule l'entrée du circuit qu'on peut mettre en état haut (*tension de 5V = charge du condensateur*) ou un état bas (*tension de 0V = régime libre*).\n",
    "\n",
    "La carte Arduino est [programmée](circuit_rc_decharge/circuit_rc_decharge.ino) (ce programme n'est pas à comprendre) pour :\n",
    "* charger le condensateur\n",
    "* recevoir la durée d'acquisition de l'utilisateur\n",
    "* démarrer le régime libre puis renvoyer un couple de mesure (temps, tension $U_C$) jusqu'à la fin de la durée d'acquisition.\n",
    "\n",
    "Les résultats ont été enregistrés par un programme Python dans un fichier de données. On se propose d'utiliser ces données pour:\n",
    "* tracer $U_C$ et valider le modèle attendu de décroissance exponentielle\n",
    "* déterminer sur cet exemple le temps caractéristique puis la capacitance associée.\n",
    "\n",
    "**Recherche préliminaire** Le condensateur utilisé est marqué. Le constructeur indique une capacitance $C = 0.1 \\mu F$. On attend donc un temps caractéristique de l'ordre de $\\tau = 10 ms$"
   ]
  },
  {
   "cell_type": "markdown",
   "metadata": {},
   "source": [
    "*On commence par importer les modules utiles pour manipuler les données et tracer des graphiques*"
   ]
  },
  {
   "cell_type": "code",
   "execution_count": 1,
   "metadata": {},
   "outputs": [
    {
     "name": "stdout",
     "output_type": "stream",
     "text": [
      "Using matplotlib backend: Qt5Agg\n",
      "Populating the interactive namespace from numpy and matplotlib\n"
     ]
    }
   ],
   "source": [
    "%pylab\n",
    "%matplotlib inline\n",
    "from scipy.optimize import curve_fit"
   ]
  },
  {
   "cell_type": "markdown",
   "metadata": {},
   "source": [
    "## Importation des données\n",
    "On commence par importer les données. On va les enregistrer dans deux vecteurs :\n",
    "* `temps` : données des temps de mesure\n",
    "* `tensions` : données des tensions $U_C$ mesurées\n",
    "\n",
    "`n_mesures` permet d'obtenir le nobmre de points de mesures."
   ]
  },
  {
   "cell_type": "code",
   "execution_count": 2,
   "metadata": {},
   "outputs": [],
   "source": [
    "filename = \"circuit_rc_decharge.dat\"\n",
    "with open(filename, 'r') as file:\n",
    "    datas = loadtxt(file, delimiter=\",\", skiprows=1)\n",
    "    temps = datas[:, 0]\n",
    "    n_mesures = temps.size\n",
    "    tensions = datas[:, 1]"
   ]
  },
  {
   "cell_type": "markdown",
   "metadata": {},
   "source": [
    "Il faut d'abord mettre en forme les données de mesure :\n",
    "* `temps` correspond à des mesures en microsecondes de **l'intervalle de temps entre deux mesures**. On va donc sommer ces durées pour avoir les temps de mesure.\n",
    "* `tensions`  ne correspond pas à la tension mesurée (entre 0 et 5V) mais au **codage binaire** issu de la conversion analogique-numérique (entre 0 et 1023). Il faut donc transformer la liste pour revenir aux valeurs de tension."
   ]
  },
  {
   "cell_type": "code",
   "execution_count": 3,
   "metadata": {},
   "outputs": [],
   "source": [
    "# Traitement de temps\n",
    "temps2 = temps\n",
    "for i in range(len(temps2)):\n",
    "    if i > 0:\n",
    "        temps2[i] = temps2[i-1] + temps[i]\n",
    "\n",
    "# Traitement de tensions\n",
    "B_MAX = 1023\n",
    "U_MAX = 5\n",
    "B_MIN = 0\n",
    "U_MIN = 0\n",
    "tensions2 = (tensions - B_MIN) / (B_MAX - B_MIN) * (U_MAX - U_MIN) + U_MIN"
   ]
  },
  {
   "cell_type": "markdown",
   "metadata": {},
   "source": [
    "## Etude des données - Tracé de l'évolution temporelle de la tension.\n",
    "On va tracer la tension puis valider graphiquement un modèle d'exponentielle décroissante."
   ]
  },
  {
   "cell_type": "code",
   "execution_count": 4,
   "metadata": {},
   "outputs": [
    {
     "data": {
      "text/plain": [
       "<matplotlib.legend.Legend at 0x7f9c7278e510>"
      ]
     },
     "execution_count": 4,
     "metadata": {},
     "output_type": "execute_result"
    },
    {
     "data": {
      "image/png": "[encoded data removed]",
      "text/plain": [
       "<Figure size 432x288 with 1 Axes>"
      ]
     },
     "metadata": {
      "needs_background": "light"
     },
     "output_type": "display_data"
    }
   ],
   "source": [
    "f = figure(1)  # On crée une figure\n",
    "ax1 = f.add_subplot(1, 1, 1)  # Création des axes du graphiques\n",
    "ax1.plot(temps2, tensions2, label=r\"$u_C(t)$\", linestyle=':', linewidth=1, color=\"black\")  # Création de la courbe\n",
    "\n",
    "ax1.set_ylabel(r\"$u_C(V)$\")  # Légende des axes\n",
    "ax1.set_xlabel(r\"$t(ms)$\")  # Légende des axes\n",
    "ax1.legend()  # Fait apparaître la légende à droite du graphique"
   ]
  },
  {
   "cell_type": "markdown",
   "metadata": {},
   "source": [
    "On peut considérer que l'allure est cohérente avec un modèle d'ordre 1. \n",
    "\n",
    "## Modélisation de la courbe expérimentale.\n",
    "On va réaliser un ajustement des données expérimentales avec le modèle attendu :\n",
    "$$ U_C(t) = A \\exp(-t / \\tau)$$\n",
    "\n",
    "### Détermination des paramètres A et $\\tau$ d'ajustement\n",
    "*On utilise pour cela la fonction `curve_fit` du module `scipy.optimize` importé au début. A noter la liste `p0` qui correspond à des valeurs initiales pour les paramètres $\\tau$ et A. Si on peut il est préférable de les choisir proche des valeurs attendues.*"
   ]
  },
  {
   "cell_type": "code",
   "execution_count": 5,
   "metadata": {},
   "outputs": [],
   "source": [
    "\"\"\" On commence par définir une fonction qui correspond au modèle choisi.\"\"\"\n",
    "def modele_exp(t, tau, A):\n",
    "    y = A * np.exp(-t / tau)\n",
    "    return y\n",
    "\n",
    "\"\"\"On utilise la fonction curve_fit pour obtenir les paramètres d'ajustement tau et A (enregistrés dans params)\"\"\"\n",
    "params, corel = curve_fit(modele_exp, temps2, tensions2, p0 = [10000., 5.])  # Cette fonction réalise l'ajustement et renvoie dans params les paramètres optimaux."
   ]
  },
  {
   "cell_type": "markdown",
   "metadata": {},
   "source": [
    "### Comparaison entre le modèle et les données expérimentales.\n",
    "Il est fondamental de comparer le modèle et les données expérimentale. Cette comparaison est graphique."
   ]
  },
  {
   "cell_type": "code",
   "execution_count": 6,
   "metadata": {},
   "outputs": [
    {
     "data": {
      "text/plain": [
       "<matplotlib.legend.Legend at 0x7f9c52388c10>"
      ]
     },
     "execution_count": 6,
     "metadata": {},
     "output_type": "execute_result"
    },
    {
     "data": {
      "image/png": "[encoded data removed]",
      "text/plain": [
       "<Figure size 432x288 with 1 Axes>"
      ]
     },
     "metadata": {
      "needs_background": "light"
     },
     "output_type": "display_data"
    }
   ],
   "source": [
    "lntensions_fit = modele_exp(temps2, params[0], params[1]) # On applique les paramètres d'ajustment aux distance pour pouvoir tracer le modèle et les résultats.\n",
    "\n",
    "f = figure(1)  # On crée une figure\n",
    "ax1 = f.add_subplot(1, 1, 1)  # Création des axes du graphiques\n",
    "ax1.plot(temps2, tensions2, label=r\"$u_C(t)$\", linestyle=':', linewidth=1, color=\"black\")  # Création de la courbe\n",
    "ax1.plot(temps2, lntensions_fit, label=\"Courbe de tendance\", linestyle='-', linewidth=1, color=\"red\")  # Création de la courbe\n",
    "\n",
    "ax1.set_ylabel(r\"$u_C(V)$\")  # Légende des axes\n",
    "ax1.set_xlabel(r\"$t(ms)$\")  # Légende des axes\n",
    "\n",
    "ax1.legend()  # Fait apparaître la légende à droite du graphique"
   ]
  },
  {
   "cell_type": "markdown",
   "metadata": {},
   "source": [
    "## Analyse du temps caractéristique. Valeur de C.\n",
    "On va utiliser le premier paramètre renvoyé comme valeur de $\\tau$. On peut ensuite en déduire $C = {\\tau \\over R}$."
   ]
  },
  {
   "cell_type": "code",
   "execution_count": 7,
   "metadata": {},
   "outputs": [
    {
     "name": "stdout",
     "output_type": "stream",
     "text": [
      "tau = 11275 micro s\n",
      "C = 0.11 micro F\n"
     ]
    }
   ],
   "source": [
    "print('tau = {:5.0f} micro s'.format(params[0]))\n",
    "R = 1e5\n",
    "C = params[0] / R  # On reste en microFarad\n",
    "print('C = {:0.2f} micro F'.format(C))"
   ]
  },
  {
   "cell_type": "markdown",
   "metadata": {},
   "source": [
    "On observe que la valeur de C est plus importante que la valeur annoncé par le constructeur. Malheureusement, on ne peut par la méthode utilisée ici estimer l'incertitude sur le temps caractéristique et donc sur C. \n",
    "\n",
    "Néanmoins cette étude a permis de valider le modèle d'ordre 1 grâce à l'allure des courbes. On va donc pouvoir automatiser la mesure de $\\tau$ pour réaliser une [étude statistique](./circuit_rc_auto.ipynb) des valeurs de C et ainsi estimer plus précisément la capacitance."
   ]
  },
  {
   "cell_type": "markdown",
   "metadata": {},
   "source": [
    "### Pour aller plus loin - Importance des valeurs initiales de l'optimization\n",
    "*Remarque : On pourra essayer de changer les valeurs initiales de A et $\\tau$ dans la fonction d'optimisation (liste `p0`). Si on les prends trop loin (exemple $[1., 1.]$), il est possible que l'ajustement soit faux. C'est pourquoi le tracé graphique précédent est* ***fondamental***\n",
    "\n",
    "On donne ci-dessous les résultats données en prenant `p0 = [0., 0.]`."
   ]
  },
  {
   "cell_type": "code",
   "execution_count": 8,
   "metadata": {},
   "outputs": [
    {
     "name": "stderr",
     "output_type": "stream",
     "text": [
      "/home/ubuntu/miniconda3/envs/prepa/lib/python3.7/site-packages/ipykernel_launcher.py:3: RuntimeWarning: divide by zero encountered in true_divide\n",
      "  This is separate from the ipykernel package so we can avoid doing imports until\n",
      "/home/ubuntu/miniconda3/envs/prepa/lib/python3.7/site-packages/scipy/optimize/minpack.py:808: OptimizeWarning: Covariance of the parameters could not be estimated\n",
      "  category=OptimizeWarning)\n"
     ]
    },
    {
     "data": {
      "text/plain": [
       "<matplotlib.legend.Legend at 0x7f9c52bdf150>"
      ]
     },
     "execution_count": 8,
     "metadata": {},
     "output_type": "execute_result"
    },
    {
     "data": {
      "image/png": "[encoded data removed]",
      "text/plain": [
       "<Figure size 432x288 with 1 Axes>"
      ]
     },
     "metadata": {
      "needs_background": "light"
     },
     "output_type": "display_data"
    }
   ],
   "source": [
    "params, corel = curve_fit(modele_exp, temps2, tensions2, p0 = [0., 0.])  # Cette fonction réalise l'ajustement et renvoie dans params les paramètres optimaux.\n",
    "\n",
    "lntensions_fit = modele_exp(temps2, params[0], params[1]) # On applique les paramètres d'ajustment aux distance pour pouvoir tracer le modèle et les résultats.\n",
    "\n",
    "f = figure(1)  # On crée une figure\n",
    "ax1 = f.add_subplot(1, 1, 1)  # Création des axes du graphiques\n",
    "ax1.plot(temps2, tensions2, label=r\"$u_C(t)$\", linestyle=':', linewidth=1, color=\"black\")  # Création de la courbe\n",
    "ax1.plot(temps2, lntensions_fit, label=\"Courbe de tendance\", linestyle='-', linewidth=1, color=\"red\")  # Création de la courbe\n",
    "\n",
    "ax1.set_ylabel(r\"$u_C(V)$\")  # Légende des axes\n",
    "ax1.set_xlabel(r\"$t(ms)$\")  # Légende des axes\n",
    "\n",
    "ax1.legend()  # Fait apparaître la légende à droite du graphique"
   ]
  },
  {
   "cell_type": "markdown",
   "metadata": {},
   "source": [
    "Il est donc **fondamental** de vérifier graphiquement un modèle obtenu par optimisation."
   ]
  },
  {
   "cell_type": "markdown",
   "metadata": {},
   "source": [
    "### A effacer"
   ]
  },
  {
   "cell_type": "code",
   "execution_count": 10,
   "metadata": {},
   "outputs": [
    {
     "name": "stdout",
     "output_type": "stream",
     "text": [
      "C = 0.099 micro F\n"
     ]
    },
    {
     "data": {
      "image/png": "[encoded data removed]",
      "text/plain": [
       "<Figure size 432x288 with 1 Axes>"
      ]
     },
     "metadata": {
      "needs_background": "light"
     },
     "output_type": "display_data"
    }
   ],
   "source": [
    "from scipy.stats import linregress\n",
    "\n",
    "lntensions2 = log(tensions2)\n",
    "\n",
    "N = 35\n",
    "pente, o0, t1, t2, t3 = linregress(temps2[0:N], lntensions2[0:N])  # Cette fonction réalise l'ajustement et renvoie dans params les paramètres optimaux.\n",
    "\n",
    "lntensions_fit2 = pente * temps2 + o0 # On applique les paramètres d'ajustment aux distance pour pouvoir tracer le modèle et les résultats.\n",
    "\n",
    "f = figure(1)  # On crée une figure\n",
    "ax1 = f.add_subplot(1, 1, 1)  # Création des axes du graphiques\n",
    "ax1.plot(temps2, lntensions2, label=r\"$\\ln(u_C(t))$\", linestyle=':', linewidth=1, color=\"black\")  # Création de la courbe\n",
    "ax1.plot(temps2, lntensions_fit2, label=\"Courbe de tendance\", linestyle='-', linewidth=1, color=\"red\")  # Création de la courbe\n",
    "\n",
    "ax1.set_ylabel(r\"$ln(u_C)$\")  # Légende des axes\n",
    "ax1.set_xlabel(r\"$t(ms)$\")  # Légende des axes\n",
    "\n",
    "ax1.legend()  # Fait apparaître la légende à droite du graphique\n",
    "\n",
    "print(\"C = {:.3f} micro F\".format(-1/pente / R))\n",
    "f.savefig('rc01ln.png')"
   ]
  },
  {
   "cell_type": "code",
   "execution_count": null,
   "metadata": {},
   "outputs": [],
   "source": []
  }
 ],
 "metadata": {
  "kernelspec": {
   "display_name": "Python 3",
   "language": "python",
   "name": "python3"
  },
  "language_info": {
   "codemirror_mode": {
    "name": "ipython",
    "version": 3
   },
   "file_extension": ".py",
   "mimetype": "text/x-python",
   "name": "python",
   "nbconvert_exporter": "python",
   "pygments_lexer": "ipython3",
   "version": "3.7.7"
  }
 },
 "nbformat": 4,
 "nbformat_minor": 4
}
